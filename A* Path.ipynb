{
 "cells": [
  {
   "cell_type": "code",
   "execution_count": 1,
   "id": "11f6cc1f-d900-45f2-b836-11047c9d1c1c",
   "metadata": {
    "tags": []
   },
   "outputs": [
    {
     "name": "stdout",
     "output_type": "stream",
     "text": [
      "Path found: [(0, 0), (0, 1), (0, 2), (0, 3), (0, 4), (1, 4), (2, 4), (3, 4), (4, 4)]\n"
     ]
    }
   ],
   "source": [
    "import heapq\n",
    "\n",
    "class Node:\n",
    "    def __init__(self, position, parent=None, cost=0, heuristic=0):\n",
    "        self.position = position\n",
    "        self.parent = parent\n",
    "        self.cost = cost\n",
    "        self.heuristic = heuristic\n",
    "\n",
    "    def __lt__(self, other):\n",
    "        return (self.cost + self.heuristic) < (other.cost + other.heuristic)\n",
    "\n",
    "def heuristic_estimate(start, goal):\n",
    "    return abs(goal[0] - start[0]) + abs(goal[1] - start[1])\n",
    "\n",
    "def astar(grid, start, goal):\n",
    "    open_set = [Node(start, None, 0, heuristic_estimate(start, goal))]\n",
    "    closed_set = set()\n",
    "\n",
    "    while open_set:\n",
    "        current_node = heapq.heappop(open_set)\n",
    "\n",
    "        if current_node.position == goal:\n",
    "            path = []\n",
    "            while current_node:\n",
    "                path.append(current_node.position)\n",
    "                current_node = current_node.parent\n",
    "            return path[::-1]\n",
    "\n",
    "        closed_set.add(current_node.position)\n",
    "\n",
    "        neighbors = [(0, 1), (0, -1), (1, 0), (-1, 0)]  # Assuming movement is allowed in four directions\n",
    "\n",
    "        for neighbor_offset in neighbors:\n",
    "            neighbor_position = (\n",
    "                current_node.position[0] + neighbor_offset[0],\n",
    "                current_node.position[1] + neighbor_offset[1],\n",
    "            )\n",
    "\n",
    "            if (\n",
    "                0 <= neighbor_position[0] < len(grid)\n",
    "                and 0 <= neighbor_position[1] < len(grid[0])\n",
    "                and grid[neighbor_position[0]][neighbor_position[1]] != 1\n",
    "                and neighbor_position not in closed_set\n",
    "            ):\n",
    "                new_cost = current_node.cost + 1\n",
    "                new_heuristic = heuristic_estimate(\n",
    "                    neighbor_position, goal\n",
    "                )\n",
    "                new_node = Node(\n",
    "                    neighbor_position,\n",
    "                    current_node,\n",
    "                    new_cost,\n",
    "                    new_heuristic,\n",
    "                )\n",
    "\n",
    "                if new_node not in open_set:\n",
    "                    heapq.heappush(open_set, new_node)\n",
    "\n",
    "    return None  # No path found\n",
    "\n",
    "# Example usage:\n",
    "grid = [\n",
    "    [0, 0, 0, 0, 0],\n",
    "    [0, 1, 1, 0, 0],\n",
    "    [0, 0, 0, 1, 0],\n",
    "    [0, 1, 0, 0, 0],\n",
    "    [0, 0, 0, 0, 0],\n",
    "]\n",
    "start = (0, 0)\n",
    "goal = (4, 4)\n",
    "\n",
    "path = astar(grid, start, goal)\n",
    "\n",
    "if path:\n",
    "    print(\"Path found:\", path)\n",
    "else:\n",
    "    print(\"No path found.\")\n"
   ]
  },
  {
   "cell_type": "code",
   "execution_count": null,
   "id": "5cfb931e-7b30-4061-bb1f-144b0c507a50",
   "metadata": {},
   "outputs": [],
   "source": []
  }
 ],
 "metadata": {
  "kernelspec": {
   "display_name": "Python 3 (ipykernel)",
   "language": "python",
   "name": "python3"
  },
  "language_info": {
   "codemirror_mode": {
    "name": "ipython",
    "version": 3
   },
   "file_extension": ".py",
   "mimetype": "text/x-python",
   "name": "python",
   "nbconvert_exporter": "python",
   "pygments_lexer": "ipython3",
   "version": "3.11.5"
  }
 },
 "nbformat": 4,
 "nbformat_minor": 5
}
